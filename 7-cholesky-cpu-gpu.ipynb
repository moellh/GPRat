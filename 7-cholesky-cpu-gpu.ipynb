{
 "cells": [
  {
   "cell_type": "markdown",
   "metadata": {},
   "source": [
    "# Test 7: Cholesky Assembly for increasing number of regressors\n",
    "\n",
    "This test captures the runtime for the Assembly, which is done prior to the Cholesky decomposition, with GPRat on the CPU and GPU.\n",
    "We use a fixed problem size of $32768=2^{15}$, an increasing number of tiles in $\\{1,2,4,8,16,32,64,128,256,512\\}$, a fixed number of cores of $48$, an increasing number of regressors in $\\{X,Y\\}$, a fixed number of CUDA streams of XY, and loop 11 times (first loop is ignored of warmup).\n",
    "\n",
    "Findings:\n",
    "\n",
    "- ..."
   ]
  },
  {
   "cell_type": "code",
   "execution_count": 1,
   "metadata": {},
   "outputs": [],
   "source": [
    "# setup\n",
    "\n",
    "import pandas as pd\n",
    "import numpy as np\n",
    "import matplotlib.pyplot as plt\n",
    "import os\n",
    "from matplotlib.cm import viridis\n",
    "from matplotlib.colors import Normalize\n",
    "import matplotlib as mpl\n",
    "\n",
    "mpl.rcParams['mathtext.fontset'] = 'stix'\n",
    "mpl.rcParams['font.family'] = 'STIXGeneral'\n",
    "mpl.rcParams.update({'font.size': 11})\n",
    "mpl.rcParams.update({'errorbar.capsize': 5})"
   ]
  },
  {
   "cell_type": "code",
   "execution_count": null,
   "metadata": {},
   "outputs": [],
   "source": [
    "# load data\n",
    "\n",
    "apex_dir_assembly = \"./data/7\"\n",
    "\n",
    "names_assembly = [\n",
    "    \"cholesky_step assembly\",\n",
    "    \"assemble K_tiles\"\n",
    "]\n",
    "\n",
    "file_headers = [\n",
    "    \"n_cores\",\n",
    "    \"n_train\",\n",
    "    \"n_tiles\",\n",
    "    \"n_reg\",\n",
    "    \"n_loops\"\n",
    "]\n",
    "\n",
    "def apex_files_to_df(dir, names):\n",
    "    data = []\n",
    "    for filename in os.listdir(dir):\n",
    "        if filename.endswith(\".csv\"):\n",
    "            parts = filename.replace(\"apex_profiles_\", \"\").replace(\".csv\", \"\").split(\"_\")\n",
    "            file_params = dict(zip(file_headers, map(int, parts)))\n",
    "            file_path = os.path.join(dir, filename)\n",
    "            df = pd.read_csv(file_path)\n",
    "            df = df[df['name'].isin(names)]\n",
    "            for key, value in file_params.items():\n",
    "                df[key] = value\n",
    "            data.append(df)\n",
    "    df_combined = pd.concat(data, ignore_index=True)\n",
    "    return df_combined\n",
    "\n",
    "df_assembly = apex_files_to_df(apex_dir_assembly, names_assembly)"
   ]
  },
  {
   "cell_type": "code",
   "execution_count": null,
   "metadata": {},
   "outputs": [
    {
     "ename": "NameError",
     "evalue": "name 'df_cholesky' is not defined",
     "output_type": "error",
     "traceback": [
      "\u001b[0;31m---------------------------------------------------------------------------\u001b[0m",
      "\u001b[0;31mNameError\u001b[0m                                 Traceback (most recent call last)",
      "Cell \u001b[0;32mIn[11], line 13\u001b[0m\n\u001b[1;32m     10\u001b[0m plt\u001b[38;5;241m.\u001b[39mxscale(\u001b[38;5;124m'\u001b[39m\u001b[38;5;124mlog\u001b[39m\u001b[38;5;124m'\u001b[39m, base\u001b[38;5;241m=\u001b[39m\u001b[38;5;241m2\u001b[39m)\n\u001b[1;32m     11\u001b[0m plt\u001b[38;5;241m.\u001b[39myscale(\u001b[38;5;124m\"\u001b[39m\u001b[38;5;124mlog\u001b[39m\u001b[38;5;124m\"\u001b[39m, base\u001b[38;5;241m=\u001b[39m\u001b[38;5;241m10\u001b[39m)\n\u001b[0;32m---> 13\u001b[0m xticks \u001b[38;5;241m=\u001b[39m \u001b[43mdf_cholesky\u001b[49m[\u001b[38;5;124m'\u001b[39m\u001b[38;5;124mn_tiles\u001b[39m\u001b[38;5;124m'\u001b[39m]\u001b[38;5;241m.\u001b[39munique()\n\u001b[1;32m     14\u001b[0m tile_sizes \u001b[38;5;241m=\u001b[39m n_train \u001b[38;5;241m/\u001b[39m xticks\n\u001b[1;32m     15\u001b[0m plt\u001b[38;5;241m.\u001b[39mxticks(\n\u001b[1;32m     16\u001b[0m     xticks,\n\u001b[1;32m     17\u001b[0m     [\u001b[38;5;124mf\u001b[39m\u001b[38;5;124m\"\u001b[39m\u001b[38;5;132;01m{\u001b[39;00m\u001b[38;5;28mint\u001b[39m(tile)\u001b[38;5;132;01m}\u001b[39;00m\u001b[38;5;130;01m\\n\u001b[39;00m\u001b[38;5;124m(\u001b[39m\u001b[38;5;132;01m{\u001b[39;00m\u001b[38;5;28mint\u001b[39m(size)\u001b[38;5;132;01m}\u001b[39;00m\u001b[38;5;124m)\u001b[39m\u001b[38;5;124m\"\u001b[39m \u001b[38;5;28;01mfor\u001b[39;00m tile, size \u001b[38;5;129;01min\u001b[39;00m \u001b[38;5;28mzip\u001b[39m(xticks, tile_sizes)],\n\u001b[1;32m     18\u001b[0m )\n",
      "\u001b[0;31mNameError\u001b[0m: name 'df_cholesky' is not defined"
     ]
    },
    {
     "data": {
      "image/png": "[encoded data removed]",
      "text/plain": [
       "<Figure size 600x400 with 1 Axes>"
      ]
     },
     "metadata": {},
     "output_type": "display_data"
    }
   ],
   "source": [
    "# plot for assembly\n",
    "# TODO\n",
    "\n",
    "n_train = 32768\n",
    "\n",
    "plt.figure(figsize=(6, 4))\n",
    "\n",
    "plt.xlabel('Number of tiles\\n(Tile Size)')\n",
    "plt.ylabel('Runtime in s')\n",
    "plt.grid(True, which=\"both\")\n",
    "plt.xscale('log', base=2)\n",
    "plt.yscale(\"log\", base=10)\n",
    "\n",
    "xticks = df_assembly['n_tiles'].unique()\n",
    "tile_sizes = n_train / xticks\n",
    "plt.xticks(\n",
    "    xticks,\n",
    "    [f\"{int(tile)}\\n({int(size)})\" for tile, size in zip(xticks, tile_sizes)],\n",
    ")\n",
    "\n",
    "plt.legend()\n",
    "plt.savefig(\"./pdf/cholesky-reg.pdf\")"
   ]
  }
 ],
 "metadata": {
  "kernelspec": {
   "display_name": "venv",
   "language": "python",
   "name": "python3"
  },
  "language_info": {
   "codemirror_mode": {
    "name": "ipython",
    "version": 3
   },
   "file_extension": ".py",
   "mimetype": "text/x-python",
   "name": "python",
   "nbconvert_exporter": "python",
   "pygments_lexer": "ipython3",
   "version": "3.13.2"
  }
 },
 "nbformat": 4,
 "nbformat_minor": 2
}
