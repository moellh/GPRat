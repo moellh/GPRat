{
 "cells": [
  {
   "cell_type": "markdown",
   "metadata": {},
   "source": [
    "# Test 12 & 13: Prediction with Full Covariance Matrix for increasing problem size\n",
    "\n",
    "These test capture the runtime for the Prediction with Full Covariance Matrix with GPRat, GPyTorch, GPflow on the CPU and GPU.\n",
    "We use an increasing problem size in $\\{2^6, \\dots, 2^{16}\\}$, an fixed number of tiles of XY for CPU and XY for GPU for GPRat, a fixed number of cores of $48$, 8 regressors, an fixed number of CUDA streams of XY for GPRat, and loop 11 times (first loop is ignored of warmup).\n",
    "\n",
    "Findings:\n",
    "\n",
    "- ..."
   ]
  },
  {
   "cell_type": "code",
   "execution_count": null,
   "metadata": {},
   "outputs": [],
   "source": [
    "# setup\n",
    "\n",
    "import pandas as pd\n",
    "import numpy as np\n",
    "import matplotlib.pyplot as plt\n",
    "import os\n",
    "import matplotlib as mpl\n",
    "import utils\n",
    "\n",
    "mpl.rcParams[\"mathtext.fontset\"] = \"stix\"\n",
    "mpl.rcParams[\"font.family\"] = \"STIXGeneral\"\n",
    "mpl.rcParams.update({\"font.size\": 11})\n",
    "mpl.rcParams.update({\"errorbar.capsize\": 5})\n",
    "mpl.rcParams.update({\"grid.linewidth\": 0.5})"
   ]
  },
  {
   "cell_type": "code",
   "execution_count": null,
   "metadata": {},
   "outputs": [],
   "source": [
    "# load data\n",
    "\n",
    "apex_dir_pfc_gprat = \"./data/7a/\"\n",
    "apex_dir_pfc_gprat_steps = \"./data/8/\"\n",
    "subdirs = [\"apex-cpu/\", \"apex-gpu/\"]\n",
    "\n",
    "names_cholesky = [\"cholesky\"]\n",
    "\n",
    "names_steps = [\n",
    "    \"predict_full_cov_step ressource allocation\",\n",
    "    \"predict_full_cov_step assembly\",\n",
    "    \"predict_full_cov_step cholesky\",\n",
    "    \"predict_full_cov_step forward\",\n",
    "    \"predict_full_cov_step backward\",\n",
    "    \"predict_full_cov_step forward KcK\",\n",
    "    \"predict_full_cov_step prediction\",\n",
    "    \"predict_full_cov_step full cov\",\n",
    "    \"predict_full_cov_step pred uncer\",\n",
    "    \"predict_full_cov_step copyback\",\n",
    "    \"predict_full_cov_step ressource destroy\",\n",
    "    \"assemble K_tiles\",\n",
    "    \"assemble alpha_tiles\",\n",
    "    \"assemble prior_K_tiles_full\",\n",
    "    \"assemble cross_covariance_tiles\",\n",
    "    \"assemble t_cross_covariance_tiles\",\n",
    "    \"assemble zeros\",\n",
    "    \"cholesky potrf\",\n",
    "    \"cholesky trsm\",\n",
    "    \"cholesky syrk\",\n",
    "    \"cholesky gemm\",\n",
    "    \"forward trsv\",\n",
    "    \"forward gemv\",\n",
    "    \"backward trsv\",\n",
    "    \"backward gemv\",\n",
    "    \"forward_KcK trsm\",\n",
    "    \"forward_KcK gemm\",\n",
    "    \"predict gemv\",\n",
    "    \"full_cov gemm\",\n",
    "    \"pred_uncer diag_tile\",\n",
    "]\n",
    "\n",
    "file_headers_cpu = [\"n_cores\", \"n_train\", \"n_tiles\", \"n_reg\", \"n_loops\"]\n",
    "\n",
    "file_headers_gpu = [\"n_cores\", \"n_train\", \"n_tiles\", \"n_reg\", \"n_streams\", \"n_loops\"]\n",
    "\n",
    "\n",
    "def apex_files_to_df(dir, names, file_headers):\n",
    "    data = []\n",
    "    for filename in os.listdir(dir):\n",
    "        if filename.endswith(\".csv\"):\n",
    "            parts = (\n",
    "                filename.replace(\"apex_profiles_\", \"\").replace(\".csv\", \"\").split(\"_\")\n",
    "            )\n",
    "            file_params = dict(zip(file_headers, map(int, parts)))\n",
    "            file_path = os.path.join(dir, filename)\n",
    "            df = pd.read_csv(file_path)\n",
    "            df = df[df[\"name\"].isin(names)]\n",
    "            for key, value in file_params.items():\n",
    "                df[key] = value\n",
    "            data.append(df)\n",
    "    df_combined = pd.concat(data, ignore_index=True)\n",
    "    df_combined = df_combined.sort_values(by=[\"n_train\", \"n_tiles\"])\n",
    "    return df_combined\n",
    "\n",
    "df_pfc_gprat = []\n",
    "df_pfc_gprat_steps = []\n",
    "df_pfc_gprat.append(\n",
    "    apex_files_to_df(apex_dir_pfc_gprat + subdirs[0], names_cholesky, file_headers_cpu)\n",
    ")\n",
    "df_pfc_gprat.append(\n",
    "    apex_files_to_df(apex_dir_pfc_gprat + subdirs[1], names_cholesky, file_headers_gpu)\n",
    ")\n",
    "df_pfc_gprat_steps.append(\n",
    "    apex_files_to_df(apex_dir_pfc_gprat_steps + subdirs[0], names_steps, file_headers_cpu)\n",
    ")\n",
    "df_pfc_gprat_steps.append(\n",
    "    apex_files_to_df(\n",
    "        apex_dir_pfc_gprat_steps + subdirs[1], names_steps, file_headers_gpu\n",
    "    )\n",
    ")"
   ]
  },
  {
   "cell_type": "code",
   "execution_count": null,
   "metadata": {},
   "outputs": [
    {
     "data": {
      "text/plain": [
       "<Figure size 640x480 with 0 Axes>"
      ]
     },
     "metadata": {},
     "output_type": "display_data"
    }
   ],
   "source": [
    "# plot for predict-fullcov GPRat, GPyTorch, GPflow on CPU and GPU\n",
    "# TODO\n",
    "\n",
    "plt.savefig(\"./pdf/predict-fullcov.pdf\")"
   ]
  },
  {
   "cell_type": "code",
   "execution_count": null,
   "metadata": {},
   "outputs": [],
   "source": [
    "# plot for predict-fullcov steps for GPRat\n",
    "# TODO\n",
    "\n",
    "plt.savefig(\"./pdf/predict-fullcov-steps.pdf\")"
   ]
  },
  {
   "cell_type": "code",
   "execution_count": null,
   "metadata": {},
   "outputs": [],
   "source": [
    "# plot for predict-fullcov BLAS for GPRAt\n",
    "# TODO\n",
    "\n",
    "plt.savefig(\"./pdf/predict-fullcov-blas.pdf\")"
   ]
  }
 ],
 "metadata": {
  "kernelspec": {
   "display_name": "venv",
   "language": "python",
   "name": "python3"
  },
  "language_info": {
   "codemirror_mode": {
    "name": "ipython",
    "version": 3
   },
   "file_extension": ".py",
   "mimetype": "text/x-python",
   "name": "python",
   "nbconvert_exporter": "python",
   "pygments_lexer": "ipython3",
   "version": "3.13.2"
  }
 },
 "nbformat": 4,
 "nbformat_minor": 2
}
